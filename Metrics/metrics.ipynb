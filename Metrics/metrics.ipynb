{
 "cells": [
  {
   "cell_type": "code",
   "execution_count": 36,
   "id": "amended-upset",
   "metadata": {},
   "outputs": [],
   "source": [
    "import numpy as np"
   ]
  },
  {
   "cell_type": "code",
   "execution_count": 37,
   "id": "sticky-lincoln",
   "metadata": {},
   "outputs": [],
   "source": [
    "def get_labels(y_predict):\n",
    "    labels = y_predict[:, 0] < y_predict[:, 1]\n",
    "    return labels\n",
    "\n",
    "def crop_dataset(y_true, y_predict, percent=None):\n",
    "    if percent is None:\n",
    "        percent = 100\n",
    "    N = int(len(y_true)*percent/100)\n",
    "    y_true, y_predict = y_true[:N], y_predict[:N, :]\n",
    "    \n",
    "    return y_true, y_predict\n",
    "\n",
    "def get_TP(y_true, labels):\n",
    "    c = 0\n",
    "    for y_true, y_predict in zip(y_true, labels):\n",
    "        if y_true:\n",
    "            if y_true == y_predict:\n",
    "                c += 1\n",
    "                \n",
    "    return c\n",
    "\n",
    "def get_TN(y_true, labels):\n",
    "    c = 0\n",
    "    for y_true, y_predict in zip(y_true, labels):\n",
    "        if not y_true:\n",
    "            if y_true == y_predict:\n",
    "                c += 1\n",
    "                \n",
    "    return c\n",
    "\n",
    "def get_FP(y_true, labels):\n",
    "    c = 0\n",
    "    for y_true, y_predict in zip(y_true, labels):\n",
    "        if not y_true:\n",
    "            if y_true != y_predict:\n",
    "                c += 1\n",
    "                \n",
    "    return c\n",
    "\n",
    "def get_FN(y_true, labels):\n",
    "    c = 0\n",
    "    for y_true, y_predict in zip(y_true, labels):\n",
    "        if y_true:\n",
    "            if y_true != y_predict:\n",
    "                c += 1\n",
    "                \n",
    "    return c"
   ]
  },
  {
   "cell_type": "code",
   "execution_count": 38,
   "id": "urban-windsor",
   "metadata": {},
   "outputs": [],
   "source": [
    "def accuracy_score(y_true, y_predict, percent=None):\n",
    "    y_true, y_predict = crop_dataset(y_true, y_predict, percent)\n",
    "    \n",
    "    labels = get_labels(y_predict)\n",
    "    \n",
    "    TP = get_TP(y_true, labels)\n",
    "    TN = get_TN(y_true, labels)\n",
    "    FP = get_FP(y_true, labels)\n",
    "    FN = get_FN(y_true, labels)\n",
    "    \n",
    "    accuracy = (TP+TN)/(TP+TN+FP+FN)\n",
    "    \n",
    "    return accuracy"
   ]
  },
  {
   "cell_type": "code",
   "execution_count": 39,
   "id": "miniature-vegetarian",
   "metadata": {},
   "outputs": [],
   "source": [
    "def precision_score(y_true, y_predict, percent=None):\n",
    "    y_true, y_predict = crop_dataset(y_true, y_predict, percent)\n",
    "    \n",
    "    labels = get_labels(y_predict)\n",
    "    \n",
    "    TP = get_TP(y_true, labels)\n",
    "    FP = get_FP(y_true, labels)\n",
    "    precision = TP/(TP+FP)\n",
    "    \n",
    "    return precision"
   ]
  },
  {
   "cell_type": "code",
   "execution_count": 40,
   "id": "norwegian-simulation",
   "metadata": {},
   "outputs": [],
   "source": [
    "def recall_score(y_true, y_predict, percent=None):\n",
    "    y_true, y_predict = crop_dataset(y_true, y_predict, percent)\n",
    "    \n",
    "    labels = get_labels(y_predict)\n",
    "    \n",
    "    TP = get_TP(y_true, labels)\n",
    "    FN = get_FN(y_true, labels)\n",
    "    recall = TP/(TP+FN)\n",
    "    \n",
    "    return recall"
   ]
  },
  {
   "cell_type": "code",
   "execution_count": 41,
   "id": "compressed-publicity",
   "metadata": {},
   "outputs": [],
   "source": [
    "def lift_score(y_true, y_predict, percent=None):\n",
    "    y_true, y_predict = crop_dataset(y_true, y_predict, percent)\n",
    "    \n",
    "    labels = get_labels(y_predict)\n",
    "    \n",
    "    TP = get_TP(y_true, labels)\n",
    "    TN = get_TN(y_true, labels)\n",
    "    FP = get_FP(y_true, labels)\n",
    "    FN = get_FN(y_true, labels)\n",
    "    lift = (TP/(TP+FP))/((TP+FN)/(TP+TN+FP+FN))\n",
    "    \n",
    "    return lift"
   ]
  },
  {
   "cell_type": "code",
   "execution_count": 42,
   "id": "thick-daughter",
   "metadata": {},
   "outputs": [],
   "source": [
    "def f1_score(y_true, y_predict, percent=None):\n",
    "    pre, rec = precision_score(y_true, y_predict, percent), recall_score(y_true, y_predict, percent)\n",
    "    f1 = 2*pre*rec/(pre+rec)\n",
    "    \n",
    "    return f1"
   ]
  },
  {
   "cell_type": "code",
   "execution_count": 53,
   "id": "disabled-hammer",
   "metadata": {},
   "outputs": [
    {
     "name": "stdout",
     "output_type": "stream",
     "text": [
      "Accuracy:\t1.0\n",
      "Precision:\t1.0\n",
      "Recall:\t\t1.0\n",
      "Lift:\t\t3.811\n",
      "F1:\t\t1.0\n"
     ]
    }
   ],
   "source": [
    "if __name__ == \"__main__\":\n",
    "    file = np.loadtxt('HW2_labels.txt',  delimiter=',')\n",
    "    y_predict, y_true = file[:, :2], file[:, -1]\n",
    "\n",
    "    percent = 100\n",
    "    \n",
    "    print(f\"Accuracy:\\t{round(accuracy_score(y_true, y_predict, percent), 3)}\")\n",
    "    print(f\"Precision:\\t{round(precision_score(y_true, y_predict, percent), 3)}\")\n",
    "    print(f\"Recall:\\t\\t{round(recall_score(y_true, y_predict, percent), 3)}\")\n",
    "    print(f\"Lift:\\t\\t{round(lift_score(y_true, y_predict, percent), 3)}\")\n",
    "    print(f\"F1:\\t\\t{round(f1_score(y_true, y_predict, percent), 3)}\")"
   ]
  }
 ],
 "metadata": {
  "kernelspec": {
   "display_name": "Python 3",
   "language": "python",
   "name": "python3"
  },
  "language_info": {
   "codemirror_mode": {
    "name": "ipython",
    "version": 3
   },
   "file_extension": ".py",
   "mimetype": "text/x-python",
   "name": "python",
   "nbconvert_exporter": "python",
   "pygments_lexer": "ipython3",
   "version": "3.8.5"
  }
 },
 "nbformat": 4,
 "nbformat_minor": 5
}
